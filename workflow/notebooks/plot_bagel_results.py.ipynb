{
 "cells": [
  {
   "cell_type": "code",
   "execution_count": 2,
   "id": "60d16cba",
   "metadata": {},
   "outputs": [],
   "source": [
    "import pandas as pd\n",
    "import seaborn as sns\n",
    "import matplotlib.pyplot as plt\n",
    "import os\n",
    "from sklearn.metrics import auc\n",
    "\n",
    "%matplotlib inline\n"
   ]
  },
  {
   "cell_type": "code",
   "execution_count": 3,
   "id": "2d98d8f6",
   "metadata": {},
   "outputs": [],
   "source": [
    "pr_df = pd.DataFrame()\n",
    "for pr in snakemake.input:\n",
    "    tmp_df = pd.read_csv(pr, sep='\\t')\n",
    "    tmp_df['filename'] = pr\n",
    "    pr_df = pr_df.append(tmp_df)\n",
    "pr_df['Sample_Name'] = pr_df['filename'].apply(lambda x: os.path.basename(x).split('.')[0])\n",
    "pr_df.head()"
   ]
  },
  {
   "cell_type": "code",
   "execution_count": 4,
   "id": "1d8af1ef",
   "metadata": {},
   "outputs": [],
   "source": [
    "samples = pr_df.Sample_Name.unique()\n",
    "fig, axes = plt.subplots(figsize=(6, 6 * len(samples)),\n",
    "                         nrows=len(samples))\n",
    "pal = sns.color_palette('Set2', len(samples))\n",
    "for smp, ax in zip(samples, axes):\n",
    "    tmp_df = pr_df[pr_df.Sample_Name == smp]\n",
    "    ax.plot(tmp_df.Recall, tmp_df.Precision, color=pal.pop(0))\n",
    "    ax.set_xlabel('Recall')\n",
    "    ax.set_ylabel('Precision (1-FDR)')\n",
    "    ax.set_title('Precision-Recall Plot: {}'.format(smp))\n",
    "    ax.set_ylim((0, 1.05))\n",
    "    lbl = auc(tmp_df.Recall, tmp_df.Precision)\n",
    "    ax.text(0.0, 0.9, \"AUC = {:.3f}\".format(lbl))\n",
    "plt.savefig(\"results/plots/bagel_pr_curve.pdf\")"
   ]
  },
  {
   "cell_type": "code",
   "execution_count": 5,
   "id": "a0e04760",
   "metadata": {},
   "outputs": [],
   "source": [
    "ceg_genes = set()\n",
    "with open(snakemake.params['ess'], 'rt') as fh:\n",
    "    for line in fh:\n",
    "        line = line.strip()\n",
    "        if line == '':\n",
    "            continue\n",
    "        ceg_genes.add(line.split()[0])\n",
    "neg_genes = set()\n",
    "with open(snakemake.params['neg'], 'rt') as fh:\n",
    "    for line in fh:\n",
    "        line = line.strip()\n",
    "        if line == '':\n",
    "            continue\n",
    "        neg_genes.add(line.split()[0])\n",
    "pr_df['Essential'] = pr_df.Gene.apply(\n",
    "    lambda x: 'Essential' if x in ceg_genes \n",
    "    else 'Negative' if x in neg_genes else 'Other')"
   ]
  },
  {
   "cell_type": "code",
   "execution_count": 6,
   "id": "6f3a723c",
   "metadata": {},
   "outputs": [],
   "source": [
    "fig, axes = plt.subplots(figsize=(6, 6 * len(samples)),\n",
    "                         nrows=len(samples))\n",
    "for smp, ax in zip(samples, axes):\n",
    "    tmp_df = pr_df[pr_df.Sample_Name == smp]\n",
    "    sns.histplot(ax=ax,\n",
    "                 data=tmp_df,\n",
    "                 bins=100,\n",
    "                 binrange=(-100, 100),\n",
    "                 x='BF',\n",
    "                 hue='Essential',\n",
    "                 kde=True,\n",
    "                 hue_order=['Essential', 'Negative'])\n",
    "    ax.set_title(smp)\n",
    "    ax.set_xlim((-100, 100))\n",
    "plt.tight_layout()\n",
    "plt.savefig(\"results/plots/bagel_ess_neg_hist.pdf\")"
   ]
  },
  {
   "cell_type": "code",
   "execution_count": 7,
   "id": "58772d4e",
   "metadata": {},
   "outputs": [],
   "source": [
    "fig, axes = plt.subplots(figsize=(6, 6 * len(samples)),\n",
    "                         nrows=len(samples),\n",
    "                         sharex=True)\n",
    "for smp, ax in zip(samples, axes):\n",
    "    tmp_df = pr_df[pr_df.Sample_Name == smp]\n",
    "    sns.kdeplot(ax=ax,\n",
    "                data=tmp_df,\n",
    "                x='BF',\n",
    "                hue='Essential',\n",
    "                fill=True,\n",
    "                hue_order=['Essential', 'Negative'])\n",
    "    ax.set_title(smp)\n",
    "plt.tight_layout()\n",
    "plt.savefig(\"results/plots/bagel_ess_neg_dist.pdf\")"
   ]
  },
  {
   "cell_type": "code",
   "execution_count": null,
   "id": "2d90b929",
   "metadata": {},
   "outputs": [],
   "source": []
  }
 ],
 "metadata": {
  "interpreter": {
   "hash": "b480ed5c126403362fa51eb1a5ab6e6d2a7f595fac235cf98a1793d1899d17bf"
  },
  "kernelspec": {
   "display_name": "Python 3",
   "language": "python",
   "name": "python3"
  },
  "language_info": {
   "codemirror_mode": {
    "name": "ipython",
    "version": 3
   },
   "file_extension": ".py",
   "mimetype": "text/x-python",
   "name": "python",
   "nbconvert_exporter": "python",
   "pygments_lexer": "ipython3",
   "version": "3.10.1"
  }
 },
 "nbformat": 4,
 "nbformat_minor": 5
}
