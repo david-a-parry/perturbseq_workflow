{
 "cells": [
  {
   "cell_type": "code",
   "execution_count": null,
   "id": "60d16cba",
   "metadata": {},
   "outputs": [],
   "source": [
    "import pandas as pd\n",
    "import seaborn as sns\n",
    "import matplotlib.pyplot as plt\n",
    "import os\n",
    "from sklearn.metrics import auc\n",
    "\n",
    "%matplotlib inline\n"
   ]
  },
  {
   "cell_type": "code",
   "execution_count": null,
   "id": "2d98d8f6",
   "metadata": {},
   "outputs": [],
   "source": [
    "pr_df = pd.DataFrame()\n",
    "for pr in snakemake.input:\n",
    "    tmp_df = pd.read_csv(pr, sep='\\t')\n",
    "    tmp_df['filename'] = pr\n",
    "    pr_df = pr_df.append(tmp_df)\n",
    "pr_df['Sample_Name'] = pr_df['filename'].apply(lambda x: os.path.basename(x).split('.')[0])\n",
    "pr_df.head()"
   ]
  },
  {
   "cell_type": "code",
   "execution_count": null,
   "id": "1d8af1ef",
   "metadata": {},
   "outputs": [],
   "source": [
    "samples = pr_df.Sample_Name.unique()\n",
    "fig, axes = plt.subplots(figsize=(6, 12),\n",
    "                         nrows=len(samples))\n",
    "for smp, ax in zip(samples, axes):\n",
    "    tmp_df = pr_df[pr_df.Sample_Name == smp]\n",
    "    sns.lineplot(ax=ax,\n",
    "                 data=tmp_df,\n",
    "                 x='Recall',\n",
    "                 y='Precision')\n",
    "    plt.xlabel('Recall')\n",
    "    plt.ylabel('Precision (1-FDR)')\n",
    "    plt.title('Precision-Recall Plot: {}'.format(smp))\n",
    "    lbl = auc(tmp_df.Recall, tmp_df.Precision)\n",
    "    plt.text(0.0, 0.9, \"AUC = {:.3f}\".format(lbl))\n",
    "plt.savefig(\"results/plots/bagel_pr_curve.pdf\")"
   ]
  },
  {
   "cell_type": "code",
   "execution_count": null,
   "id": "a0e04760",
   "metadata": {},
   "outputs": [],
   "source": [
    "ceg_genes = set()\n",
    "with open(snakemake.params['ess'], 'rt') as fh:\n",
    "    for line in fh:\n",
    "        ceg_genes.add(line.strip())\n",
    "neg_genes = set()\n",
    "with open(snakemake.params['neg'], 'rt') as fh:\n",
    "    for line in fh:\n",
    "        neg_genes.add(line.strip())\n",
    "pr_df['Essential'] = pr_df.Gene.apply(\n",
    "    lambda x: 'Essential' if x in ceg_genes \n",
    "    else 'Negative' if x in neg_genes else 'Other')"
   ]
  },
  {
   "cell_type": "code",
   "execution_count": null,
   "id": "6f3a723c",
   "metadata": {},
   "outputs": [],
   "source": [
    "fig, axes = plt.subplots(figsize=(6, 12),\n",
    "                         nrows=len(samples))\n",
    "for smp, ax in zip(samples, axes):\n",
    "    tmp_df = pr_df[pr_df.Sample_Name == smp]\n",
    "    sns.displot(data=tmp_df,\n",
    "                x='BF',\n",
    "                hue='Essential',\n",
    "                kde=True,\n",
    "                hue_order=['Essential', 'Negative'])\n",
    "    plt.title(smp)\n",
    "plt.savefig(\"results/plots/bagel_ess_neg_hist.pdf\")"
   ]
  },
  {
   "cell_type": "code",
   "execution_count": null,
   "id": "58772d4e",
   "metadata": {},
   "outputs": [],
   "source": [
    "fig, axes = plt.subplots(figsize=(6, 12),\n",
    "                         nrows=len(samples))\n",
    "for smp, ax in zip(samples, axes):\n",
    "    tmp_df = pr_df[pr_df.Sample_Name == smp]\n",
    "    sns.kdeplot(ax=ax,\n",
    "                data=tmp_df,\n",
    "                x='BF',\n",
    "                hue='Essential',\n",
    "                fill=True,\n",
    "                hue_order=['Essential', 'Negative'])\n",
    "    ax.set_title(smp)\n",
    "plt.savefig(\"results/plots/bagel_ess_neg_dist.pdf\")"
   ]
  },
  {
   "cell_type": "code",
   "execution_count": null,
   "id": "9fdf5ff1",
   "metadata": {},
   "outputs": [],
   "source": [
    "fig, axes = plt.subplots(figsize=(6, 12),\n",
    "                         nrows=len(samples))\n",
    "for smp, ax in zip(samples, axes):\n",
    "    tmp_df = pr_df[pr_df.Sample_Name == smp]\n",
    "    sns.kdeplot(ax=ax,\n",
    "                data=tmp_df,\n",
    "                x='BF',\n",
    "                hue='Essential',\n",
    "                fill=True,\n",
    "                hue_order=['Essential', 'Negative'])\n",
    "    ax.set_title(smp)"
   ]
  },
  {
   "cell_type": "code",
   "execution_count": null,
   "id": "2d90b929",
   "metadata": {},
   "outputs": [],
   "source": []
  }
 ],
 "metadata": {
  "interpreter": {
   "hash": "b480ed5c126403362fa51eb1a5ab6e6d2a7f595fac235cf98a1793d1899d17bf"
  },
  "kernelspec": {
   "display_name": "Python 3",
   "language": "python",
   "name": "python3"
  },
  "language_info": {
   "codemirror_mode": {
    "name": "ipython",
    "version": 3
   },
   "file_extension": ".py",
   "mimetype": "text/x-python",
   "name": "python",
   "nbconvert_exporter": "python",
   "pygments_lexer": "ipython3",
   "version": "3.10.0"
  }
 },
 "nbformat": 4,
 "nbformat_minor": 5
}
