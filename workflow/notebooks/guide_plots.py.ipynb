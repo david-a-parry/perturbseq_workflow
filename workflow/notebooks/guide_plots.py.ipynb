{
 "cells": [
  {
   "cell_type": "code",
   "execution_count": 2,
   "id": "0434ec59",
   "metadata": {},
   "outputs": [],
   "source": [
    "# start coding here\n",
    "import os\n",
    "import pandas as pd\n",
    "import seaborn as sns\n",
    "import numpy as np\n",
    "import matplotlib.pyplot as plt\n",
    "from sklearn.metrics import auc\n",
    "\n",
    "%matplotlib inline\n",
    "\n",
    "sns.set_style('ticks')\n",
    "sns.set_context('talk')"
   ]
  },
  {
   "cell_type": "code",
   "execution_count": 3,
   "id": "2f82685d",
   "metadata": {},
   "outputs": [],
   "source": [
    "read_counts = pd.read_csv(snakemake.input[0])\n",
    "samp2mapped = read_counts.groupby(['sample_name'])['Coverage'].sum().to_dict()\n",
    "read_counts['fraction_reads'] = read_counts.apply(\n",
    "    lambda x: x.Coverage/samp2mapped[x.sample_name],\n",
    "    axis=1)\n",
    "read_counts.head()"
   ]
  },
  {
   "cell_type": "code",
   "execution_count": 4,
   "id": "4ab740e8",
   "metadata": {},
   "outputs": [],
   "source": [
    "read_counts.sample_name.unique()"
   ]
  },
  {
   "cell_type": "code",
   "execution_count": 5,
   "id": "ae332034",
   "metadata": {},
   "outputs": [],
   "source": [
    "sample_df = pd.read_csv(snakemake.config['samples'], sep='\\t')\n",
    "sample_df.sort_values(by=['timepoint',], inplace=True)\n",
    "sample_order = sample_df.sample_name.values\n",
    "sample_df.head()"
   ]
  },
  {
   "cell_type": "code",
   "execution_count": 6,
   "id": "c5143e3e",
   "metadata": {},
   "outputs": [],
   "source": [
    "t0 = sample_df.timepoint.min()\n",
    "t0_samples = sample_df[sample_df.timepoint == t0].sample_name.values\n",
    "t0_samples"
   ]
  },
  {
   "cell_type": "code",
   "execution_count": 7,
   "id": "b4a1af20",
   "metadata": {},
   "outputs": [],
   "source": [
    "pal = sns.color_palette('colorblind', len(t0_samples))\n",
    "fig, axes = plt.subplots(figsize=(13, 5), ncols=len(t0_samples))\n",
    "for smpl, ax in zip(t0_samples, axes):\n",
    "    y = read_counts[read_counts.sample_name == smpl].fraction_reads.sort_values(\n",
    "        ascending=False).values\n",
    "    x = np.arange(0, len(y)) / len(y)\n",
    "    y = np.cumsum(y)\n",
    "    ax.plot(x, y, c=pal.pop(0))\n",
    "    ax.plot([0, x[-1]], [0, y[-1]], '--', c='grey')\n",
    "    lbl = auc(x, y)\n",
    "    ax.text(0, 0.9, \"AUC = {:.3f}\".format(lbl))\n",
    "    ax.set_title(smpl)\n",
    "    ax.set_xlabel(\"Ranked Guides\")\n",
    "    if smpl == t0_samples[0]:\n",
    "        ax.set_ylabel(\"Fraction Reads\")\n",
    "plt.savefig(snakemake.output[0])\n",
    "prefix, _ = os.path.splitext(snakemake.output[0])\n",
    "plt.savefig(prefix + '.png')"
   ]
  },
  {
   "cell_type": "code",
   "execution_count": 8,
   "id": "86efe1eb",
   "metadata": {},
   "outputs": [],
   "source": [
    "g = sns.FacetGrid(read_counts,\n",
    "                  row='sample_name',\n",
    "                  row_order=t0_samples,\n",
    "                  hue='sample_name',\n",
    "                  hue_order=t0_samples,\n",
    "                  sharex=False,\n",
    "                  sharey=False,\n",
    "                  height=6,\n",
    "                  aspect=1.5)\n",
    "g.map_dataframe(sns.histplot, 'Coverage')\n",
    "plt.savefig(snakemake.output[1])\n",
    "prefix, _ = os.path.splitext(snakemake.output[1])\n",
    "plt.savefig(prefix + '.png')"
   ]
  },
  {
   "cell_type": "code",
   "execution_count": 9,
   "id": "582b8bfe",
   "metadata": {
    "scrolled": false
   },
   "outputs": [],
   "source": [
    "g = sns.FacetGrid(read_counts,\n",
    "                  row='sample_name',\n",
    "                  row_order=sample_order,\n",
    "                  hue='sample_name',\n",
    "                  hue_order=sample_order,\n",
    "                  sharex=False,\n",
    "                  sharey=False,\n",
    "                  height=6,\n",
    "                  aspect=1.5)\n",
    "g.map_dataframe(sns.histplot, 'Coverage')\n",
    "plt.savefig(snakemake.output[2])\n",
    "prefix, _ = os.path.splitext(snakemake.output[2])\n",
    "plt.savefig(prefix + '.png')"
   ]
  },
  {
   "cell_type": "code",
   "execution_count": null,
   "id": "866b3d52",
   "metadata": {},
   "outputs": [],
   "source": []
  }
 ],
 "metadata": {
  "interpreter": {
   "hash": "7b77513020dd5b1722f5f1a5228e302cb01f97f3bf519056f9c70bb06bff16b5"
  },
  "kernelspec": {
   "display_name": "Python 3",
   "language": "python",
   "name": "python3"
  },
  "language_info": {
   "codemirror_mode": {
    "name": "ipython",
    "version": 3
   },
   "file_extension": ".py",
   "mimetype": "text/x-python",
   "name": "python",
   "nbconvert_exporter": "python",
   "pygments_lexer": "ipython3",
   "version": "3.10.0"
  }
 },
 "nbformat": 4,
 "nbformat_minor": 5
}
