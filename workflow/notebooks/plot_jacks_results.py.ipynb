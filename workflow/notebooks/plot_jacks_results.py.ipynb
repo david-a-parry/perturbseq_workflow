{
 "cells": [
  {
   "cell_type": "code",
   "execution_count": null,
   "id": "dd880f30",
   "metadata": {
    "tags": [
     "snakemake-job-properties"
    ]
   },
   "outputs": [],
   "source": [
    "\n",
    "######## snakemake preamble start (automatically inserted, do not edit) ########\n",
    "import sys; sys.path.extend(['/home/david/mambaforge/envs/snakemake/lib/python3.10/site-packages', '/home/david/source/perturbseq_workflow/workflow/notebooks']); import pickle; snakemake = pickle.loads(b'\\x80\\x04\\x95\\xbf\\x05\\x00\\x00\\x00\\x00\\x00\\x00\\x8c\\x10snakemake.script\\x94\\x8c\\tSnakemake\\x94\\x93\\x94)\\x81\\x94}\\x94(\\x8c\\x05input\\x94\\x8c\\x0csnakemake.io\\x94\\x8c\\nInputFiles\\x94\\x93\\x94)\\x81\\x94\\x8c3results/jacks_analysis/jacks_gene_JACKS_results.txt\\x94a}\\x94(\\x8c\\x06_names\\x94}\\x94\\x8c\\x12_allowed_overrides\\x94]\\x94(\\x8c\\x05index\\x94\\x8c\\x04sort\\x94eh\\x10\\x8c\\tfunctools\\x94\\x8c\\x07partial\\x94\\x93\\x94h\\x06\\x8c\\x19Namedlist._used_attribute\\x94\\x93\\x94\\x85\\x94R\\x94(h\\x16)}\\x94\\x8c\\x05_name\\x94h\\x10sNt\\x94bh\\x11h\\x14h\\x16\\x85\\x94R\\x94(h\\x16)}\\x94h\\x1ah\\x11sNt\\x94bub\\x8c\\x06output\\x94h\\x06\\x8c\\x0bOutputFiles\\x94\\x93\\x94)\\x81\\x94(\\x8c results/plots/jacks_pr_curve.pdf\\x94\\x8c$results/plots/jacks_ess_neg_dist.pdf\\x94e}\\x94(h\\x0c}\\x94h\\x0e]\\x94(h\\x10h\\x11eh\\x10h\\x14h\\x16\\x85\\x94R\\x94(h\\x16)}\\x94h\\x1ah\\x10sNt\\x94bh\\x11h\\x14h\\x16\\x85\\x94R\\x94(h\\x16)}\\x94h\\x1ah\\x11sNt\\x94bub\\x8c\\x06params\\x94h\\x06\\x8c\\x06Params\\x94\\x93\\x94)\\x81\\x94(\\x8c\\x19resources/bagel/NEGv1.txt\\x94\\x8c\\x19resources/bagel/CEGv2.txt\\x94e}\\x94(h\\x0c}\\x94(\\x8c\\x03neg\\x94K\\x00N\\x86\\x94\\x8c\\x03ess\\x94K\\x01N\\x86\\x94uh\\x0e]\\x94(h\\x10h\\x11eh\\x10h\\x14h\\x16\\x85\\x94R\\x94(h\\x16)}\\x94h\\x1ah\\x10sNt\\x94bh\\x11h\\x14h\\x16\\x85\\x94R\\x94(h\\x16)}\\x94h\\x1ah\\x11sNt\\x94bh9h5h;h6ub\\x8c\\twildcards\\x94h\\x06\\x8c\\tWildcards\\x94\\x93\\x94)\\x81\\x94}\\x94(h\\x0c}\\x94h\\x0e]\\x94(h\\x10h\\x11eh\\x10h\\x14h\\x16\\x85\\x94R\\x94(h\\x16)}\\x94h\\x1ah\\x10sNt\\x94bh\\x11h\\x14h\\x16\\x85\\x94R\\x94(h\\x16)}\\x94h\\x1ah\\x11sNt\\x94bub\\x8c\\x07threads\\x94K\\x01\\x8c\\tresources\\x94h\\x06\\x8c\\tResources\\x94\\x93\\x94)\\x81\\x94(K\\x01K\\x01\\x8c\\x04/tmp\\x94e}\\x94(h\\x0c}\\x94(\\x8c\\x06_cores\\x94K\\x00N\\x86\\x94\\x8c\\x06_nodes\\x94K\\x01N\\x86\\x94\\x8c\\x06tmpdir\\x94K\\x02N\\x86\\x94uh\\x0e]\\x94(h\\x10h\\x11eh\\x10h\\x14h\\x16\\x85\\x94R\\x94(h\\x16)}\\x94h\\x1ah\\x10sNt\\x94bh\\x11h\\x14h\\x16\\x85\\x94R\\x94(h\\x16)}\\x94h\\x1ah\\x11sNt\\x94bh]K\\x01h_K\\x01hahZub\\x8c\\x03log\\x94h\\x06\\x8c\\x03Log\\x94\\x93\\x94)\\x81\\x94}\\x94(h\\x0c}\\x94h\\x0e]\\x94(h\\x10h\\x11eh\\x10h\\x14h\\x16\\x85\\x94R\\x94(h\\x16)}\\x94h\\x1ah\\x10sNt\\x94bh\\x11h\\x14h\\x16\\x85\\x94R\\x94(h\\x16)}\\x94h\\x1ah\\x11sNt\\x94bub\\x8c\\x06config\\x94}\\x94(\\x8c\\x07samples\\x94\\x8c\\x12config/samples.tsv\\x94\\x8c\\x05units\\x94\\x8c\\x10config/units.tsv\\x94\\x8c\\x06guides\\x94\\x8cgmedia.addgene.org/cms/filer_public/71/a8/71a81179-7a62-4d75-9b53-236e6f6b7d4d/tkov3_guide_sequence.xlsx\\x94\\x8c\\tbagel_zip\\x94\\x8c7github.com/hart-lab/bagel/archive/refs/heads/master.zip\\x94\\x8c\\x10control_genotype\\x94\\x8c\\x02WT\\x94\\x8c\\x07species\\x94\\x8c\\x05human\\x94\\x8c\\x04trim\\x94K\\x00\\x8c\\nmax_length\\x94K\\x14u\\x8c\\x04rule\\x94\\x8c\\x12plot_jacks_results\\x94\\x8c\\x0fbench_iteration\\x94N\\x8c\\tscriptdir\\x94\\x8c9/home/david/source/perturbseq_workflow/workflow/notebooks\\x94ub.'); from snakemake.logging import logger; logger.printshellcmds = False; import os; os.chdir(r'/home/david/source/perturbseq_workflow');\n",
    "######## snakemake preamble end #########\n"
   ]
  },
  {
   "cell_type": "code",
   "execution_count": null,
   "id": "41d4858c",
   "metadata": {},
   "outputs": [],
   "source": [
    "import seaborn as sns\n",
    "import pandas as pd\n",
    "import numpy as np\n",
    "import matplotlib.pyplot as plt\n",
    "import matplotlib.ticker as mtick\n",
    "import plotly.offline as py\n",
    "import plotly.graph_objs as go\n",
    "from sklearn.metrics import auc\n",
    "from collections import defaultdict\n",
    "\n",
    "py.init_notebook_mode()\n",
    "\n",
    "%matplotlib inline\n",
    "sns.set_context(\"talk\")"
   ]
  },
  {
   "cell_type": "code",
   "execution_count": null,
   "id": "b0548b02",
   "metadata": {},
   "outputs": [],
   "source": [
    "jacks_scores = pd.read_csv(snakemake.input[0], sep='\\t')\n",
    "samp_order = [x for x in jacks_scores.columns if x != 'Gene']\n",
    "jacks_scores.head()"
   ]
  },
  {
   "cell_type": "code",
   "execution_count": null,
   "id": "2242fbbe",
   "metadata": {},
   "outputs": [],
   "source": [
    "neg_genes = set()\n",
    "with open(snakemake.params['neg'], 'rt') as negfile:\n",
    "    for line in negfile:\n",
    "        if line.strip() == '':\n",
    "            continue\n",
    "        neg_genes.add(line.split()[0])\n",
    "ess_genes = set()\n",
    "with open(snakemake.params['ess'], 'rt') as essfile:\n",
    "    for line in essfile:\n",
    "        if line.strip() == '':\n",
    "            continue\n",
    "        ess_genes.add(line.split()[0])"
   ]
  },
  {
   "cell_type": "code",
   "execution_count": null,
   "id": "cbc9d9d1",
   "metadata": {},
   "outputs": [],
   "source": [
    "fdr_df = dict(cutoff=[], fdr=[], Sample=[])\n",
    "for sample in samp_order:\n",
    "    for cutoff in np.linspace(-3, 2.0):\n",
    "        fp = len(jacks_scores[(jacks_scores[sample] <= cutoff) &\n",
    "                              (jacks_scores['Gene'].isin(neg_genes))])\n",
    "        fdr = fp/len(neg_genes)\n",
    "        fdr_df['cutoff'].append(cutoff)\n",
    "        fdr_df['Sample'].append(sample)\n",
    "        fdr_df['fdr'].append(fdr)\n",
    "fdr_df = pd.DataFrame.from_dict(fdr_df)\n",
    "fig, ax = plt.subplots(figsize=(8, 6))\n",
    "sns.lineplot(data=fdr_df, ax=ax, x='cutoff', y='fdr', hue='Sample',)\n",
    "# plt.plot(fdr_dict['cutoff'], fdr_dict['fdr'])\n",
    "ax.plot((-4, 1), (0.05, 0.05), '--',\n",
    "        color='k', label='FDR = 0.05')\n",
    "ax.plot((-4, 1), (0.005, 0.005), '--',\n",
    "        color='grey', label='FDR = 0.005')\n",
    "ax.set_ylabel(\"FDR\")\n",
    "ax.set_xlabel(\"JACKS score\")\n",
    "plt.savefig(\"results/plots/jacks_fdr.pdf\")"
   ]
  },
  {
   "cell_type": "code",
   "execution_count": null,
   "id": "93f951c9",
   "metadata": {},
   "outputs": [],
   "source": [
    "pal = sns.color_palette(\"Set2\", len(samp_order))\n",
    "fig, axes = plt.subplots(figsize=(6, 6 * len(samp_order)),\n",
    "                         nrows=len(samp_order))\n",
    "if len(samp_order) == 1:\n",
    "    axes = [axes]\n",
    "for sample, ax in zip(samp_order, axes):\n",
    "    pr_df = dict(Precision=[], Recall=[], Sample=[])\n",
    "    for cutoff in np.linspace(jacks_scores[sample].min(), jacks_scores[sample].max(),\n",
    "                              2000):\n",
    "        fp = len(jacks_scores[(jacks_scores[sample] <= cutoff) &\n",
    "                              (jacks_scores['Gene'].isin(neg_genes))])\n",
    "        tp = len(jacks_scores[(jacks_scores[sample] <= cutoff) &\n",
    "                              (jacks_scores['Gene'].isin(ess_genes))])\n",
    "        try:\n",
    "            precision = tp/(tp + fp)\n",
    "        except ZeroDivisionError:\n",
    "            precision = 1.0            \n",
    "        recall = tp/len(ess_genes)\n",
    "        pr_df['Precision'].append(precision)\n",
    "        pr_df['Recall'].append(recall)\n",
    "        pr_df['Sample'].append(sample)\n",
    "    pr_df = pd.DataFrame.from_dict(pr_df)\n",
    "    area_under_curve = auc(pr_df.Recall, pr_df.Precision)\n",
    "    clr = pal.pop(0)\n",
    "    ax.plot( pr_df.Recall, pr_df.Precision, color=clr)\n",
    "    ax.set_ylim(0, 1.1)\n",
    "    ax.set_xlabel('Recall')\n",
    "    ax.set_ylabel('Precision (1-FDR)')\n",
    "    ax.set_title('{}: Precision-Recall'.format(sample))\n",
    "    ax.text(0.1, 0.85, \n",
    "            \"AUC = {:.3g}\".format(area_under_curve),\n",
    "            fontsize=15)\n",
    "plt.tight_layout()\n",
    "plt.savefig(\"results/plots/jacks_pr_curve.pdf\")"
   ]
  },
  {
   "cell_type": "code",
   "execution_count": null,
   "id": "cf97799b",
   "metadata": {},
   "outputs": [],
   "source": [
    "sns.set_style(\"darkgrid\")\n",
    "pal = sns.color_palette(\"colorblind\")\n",
    "fig, axes = plt.subplots(figsize=(10, 6 * len(samp_order)),\n",
    "                         nrows=len(samp_order))\n",
    "if len(samp_order) == 1:\n",
    "    axes = [axes]\n",
    "for samp, ax in zip(samp_order, axes):\n",
    "    sns.kdeplot(ax=ax,\n",
    "                data=jacks_scores[jacks_scores.Gene.isin(neg_genes)][samp], \n",
    "                color=pal[0],\n",
    "                shade=True,\n",
    "                label='Neg')\n",
    "    sns.kdeplot(ax=ax,\n",
    "                data=jacks_scores[jacks_scores.Gene.isin(ess_genes)][samp], \n",
    "                color=pal[1],\n",
    "                shade=True,\n",
    "                label='Essential')\n",
    "    ax.legend(bbox_to_anchor=(1.05, 1), loc=2, borderaxespad=0.)\n",
    "    ax.set_title(\"{}\".format(samp))\n",
    "    ax.set_xlabel(\"JACKS score\")\n",
    "    ax.set_xlim((-7.5, 5))\n",
    "plt.tight_layout()\n",
    "plt.savefig(\"results/plots/jacks_ess_neg_dist.pdf\")"
   ]
  },
  {
   "cell_type": "code",
   "execution_count": null,
   "id": "3d2db49d",
   "metadata": {},
   "outputs": [],
   "source": [
    "sns.set_style(\"darkgrid\")\n",
    "pal = sns.color_palette(\"colorblind\")\n",
    "fig, axes = plt.subplots(figsize=(10, 6 * len(samp_order)),\n",
    "                         nrows=len(samp_order))\n",
    "if len(samp_order) == 1:\n",
    "    axes = [axes]\n",
    "for samp, ax in zip(samp_order, axes):\n",
    "    sns.kdeplot(ax=ax,\n",
    "                data=jacks_scores[jacks_scores.Gene.isin(neg_genes)][samp], \n",
    "                color=pal[0],\n",
    "                shade=True,\n",
    "                label='Neg')\n",
    "    sns.kdeplot(ax=ax,\n",
    "                data=jacks_scores[jacks_scores.Gene.isin(ess_genes)][samp], \n",
    "                color=pal[1],\n",
    "                shade=True,\n",
    "                label='Essential')\n",
    "    sns.kdeplot(ax=ax,\n",
    "                data=jacks_scores[~jacks_scores.Gene.isin(ess_genes.union(neg_genes))][samp], \n",
    "                color=pal[2],\n",
    "                shade=True, label='Other',)\n",
    "    ax.legend(bbox_to_anchor=(1.05, 1), loc=2, borderaxespad=0.)\n",
    "    ax.set_title(\"{}\".format(samp))\n",
    "    ax.set_xlabel(\"JACKS score\")\n",
    "    ax.set_xlim((-7.5, 5))\n",
    "plt.tight_layout()\n",
    "plt.savefig(\"results/plots/jacks_ess_neg_other_dist.pdf\")"
   ]
  },
  {
   "cell_type": "code",
   "execution_count": null,
   "id": "97581af7",
   "metadata": {},
   "outputs": [],
   "source": [
    "sns.set_style(\"darkgrid\")\n",
    "pal = sns.color_palette(\"Set2\")\n",
    "fig, axes = plt.subplots(figsize=(10, 6 * len(samp_order)),\n",
    "                         nrows=len(samp_order))\n",
    "if len(samp_order) == 1:\n",
    "    axes = [axes]\n",
    "for samp, ax in zip(samp_order, axes):\n",
    "    sns.histplot(ax=ax,\n",
    "                 bins=50,\n",
    "                 data=jacks_scores[samp], \n",
    "                 color=pal.pop(0))\n",
    "    ax.set_title(\"{}\".format(samp))\n",
    "    ax.set_xlabel(\"JACKS score\")\n",
    "plt.tight_layout()\n",
    "plt.savefig(\"results/plots/jacks_hist.pdf\")"
   ]
  },
  {
   "cell_type": "code",
   "execution_count": null,
   "id": "8e844ae8",
   "metadata": {},
   "outputs": [],
   "source": []
  }
 ],
 "metadata": {
  "kernelspec": {
   "display_name": "Python 3",
   "language": "python",
   "name": "python3"
  },
  "language_info": {
   "codemirror_mode": {
    "name": "ipython",
    "version": 3
   },
   "file_extension": ".py",
   "mimetype": "text/x-python",
   "name": "python",
   "nbconvert_exporter": "python",
   "pygments_lexer": "ipython3",
   "version": "3.10.1"
  }
 },
 "nbformat": 4,
 "nbformat_minor": 5
}
